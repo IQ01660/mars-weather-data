{
 "cells": [
  {
   "cell_type": "markdown",
   "metadata": {},
   "source": [
    "## The Pressure on the Surface of Mars Over the Course of 30 Sols"
   ]
  },
  {
   "cell_type": "code",
   "execution_count": 12,
   "metadata": {},
   "outputs": [],
   "source": [
    "# taken from \n",
    "# https://www.lpi.usra.edu/education/workshops/mars/2014/Friday/Mars_Meteorology.pdf"
   ]
  },
  {
   "cell_type": "code",
   "execution_count": 13,
   "metadata": {},
   "outputs": [],
   "source": [
    "%matplotlib inline\n",
    "\n",
    "from matplotlib import pyplot as plt \n",
    "import numpy as np\n",
    "\n",
    "plt.rcdefaults() # set the matplotlib runtime configuration (rc) to its defaults"
   ]
  },
  {
   "cell_type": "code",
   "execution_count": 14,
   "metadata": {},
   "outputs": [],
   "source": [
    "# This gives us access to the library that will read a csv file:\n",
    "\n",
    "import csv "
   ]
  },
  {
   "cell_type": "code",
   "execution_count": 15,
   "metadata": {},
   "outputs": [],
   "source": [
    "# This reads a data file, which should be in the same folder\n",
    "# as this notebook, and puts it in the variable called \n",
    "# records as a list of lists, where each sub-list is one\n",
    "# row of the data:\n",
    "\n",
    "with open('mars_pressure.csv') as f:\n",
    "    records = [row for row in csv.reader(f)]"
   ]
  },
  {
   "cell_type": "code",
   "execution_count": 16,
   "metadata": {},
   "outputs": [
    {
     "data": {
      "text/plain": [
       "[['1.000000000000000000e+00 8.500000000000000000e+00'],\n",
       " ['2.000000000000000000e+00 8.500000000000000000e+00'],\n",
       " ['3.000000000000000000e+00 8.539999999999999147e+00'],\n",
       " ['4.000000000000000000e+00 8.500000000000000000e+00'],\n",
       " ['5.000000000000000000e+00 8.500000000000000000e+00'],\n",
       " ['6.000000000000000000e+00 8.500000000000000000e+00'],\n",
       " ['7.000000000000000000e+00 8.500000000000000000e+00'],\n",
       " ['8.000000000000000000e+00 8.490000000000000213e+00'],\n",
       " ['9.000000000000000000e+00 8.500000000000000000e+00'],\n",
       " ['1.000000000000000000e+01 8.449999999999999289e+00'],\n",
       " ['1.100000000000000000e+01 8.449999999999999289e+00'],\n",
       " ['1.200000000000000000e+01 8.449999999999999289e+00'],\n",
       " ['1.300000000000000000e+01 8.449999999999999289e+00'],\n",
       " ['1.400000000000000000e+01 8.400000000000000355e+00'],\n",
       " ['1.500000000000000000e+01 8.400000000000000355e+00'],\n",
       " ['1.600000000000000000e+01 8.400000000000000355e+00'],\n",
       " ['1.700000000000000000e+01 8.349999999999999645e+00'],\n",
       " ['1.800000000000000000e+01 8.339999999999999858e+00'],\n",
       " ['1.900000000000000000e+01 8.339999999999999858e+00'],\n",
       " ['2.000000000000000000e+01 8.330000000000000071e+00'],\n",
       " ['2.200000000000000000e+01 8.289999999999999147e+00'],\n",
       " ['2.300000000000000000e+01 8.289999999999999147e+00'],\n",
       " ['2.400000000000000000e+01 8.310000000000000497e+00'],\n",
       " ['2.500000000000000000e+01 8.300000000000000711e+00'],\n",
       " ['2.600000000000000000e+01 8.310000000000000497e+00'],\n",
       " ['2.700000000000000000e+01 8.300000000000000711e+00'],\n",
       " ['2.800000000000000000e+01 8.300000000000000711e+00'],\n",
       " ['2.900000000000000000e+01 8.220000000000000639e+00'],\n",
       " ['3.000000000000000000e+01 8.169999999999999929e+00']]"
      ]
     },
     "execution_count": 16,
     "metadata": {},
     "output_type": "execute_result"
    }
   ],
   "source": [
    "records"
   ]
  },
  {
   "cell_type": "code",
   "execution_count": 17,
   "metadata": {},
   "outputs": [
    {
     "data": {
      "text/plain": [
       "['1.000000000000000000e+00 8.500000000000000000e+00']"
      ]
     },
     "execution_count": 17,
     "metadata": {},
     "output_type": "execute_result"
    }
   ],
   "source": [
    "records[0]"
   ]
  },
  {
   "cell_type": "code",
   "execution_count": 18,
   "metadata": {},
   "outputs": [
    {
     "data": {
      "text/plain": [
       "['1.000000000000000000e+00', '8.500000000000000000e+00']"
      ]
     },
     "execution_count": 18,
     "metadata": {},
     "output_type": "execute_result"
    }
   ],
   "source": [
    "records[0][0].split()"
   ]
  },
  {
   "cell_type": "code",
   "execution_count": 19,
   "metadata": {},
   "outputs": [
    {
     "data": {
      "text/plain": [
       "[[1, 8.5],\n",
       " [2, 8.5],\n",
       " [3, 8.54],\n",
       " [4, 8.5],\n",
       " [5, 8.5],\n",
       " [6, 8.5],\n",
       " [7, 8.5],\n",
       " [8, 8.49],\n",
       " [9, 8.5],\n",
       " [10, 8.45],\n",
       " [11, 8.45],\n",
       " [12, 8.45],\n",
       " [13, 8.45],\n",
       " [14, 8.4],\n",
       " [15, 8.4],\n",
       " [16, 8.4],\n",
       " [17, 8.35],\n",
       " [18, 8.34],\n",
       " [19, 8.34],\n",
       " [20, 8.33],\n",
       " [22, 8.29],\n",
       " [23, 8.29],\n",
       " [24, 8.31],\n",
       " [25, 8.3],\n",
       " [26, 8.31],\n",
       " [27, 8.3],\n",
       " [28, 8.3],\n",
       " [29, 8.22],\n",
       " [30, 8.17]]"
      ]
     },
     "execution_count": 19,
     "metadata": {},
     "output_type": "execute_result"
    }
   ],
   "source": [
    "pressure_data = []\n",
    "for row in records:\n",
    "    row_splitted = row[0].split()\n",
    "    \n",
    "    \n",
    "    row_splitted[0] = int(float(row_splitted[0]))\n",
    "    row_splitted[1] = float(row_splitted[1])\n",
    "    pressure_data.append(row_splitted)\n",
    "    \n",
    "pressure_data"
   ]
  },
  {
   "cell_type": "code",
   "execution_count": 20,
   "metadata": {},
   "outputs": [
    {
     "data": {
      "text/plain": [
       "array([[ 1.  ,  8.5 ],\n",
       "       [ 2.  ,  8.5 ],\n",
       "       [ 3.  ,  8.54],\n",
       "       [ 4.  ,  8.5 ],\n",
       "       [ 5.  ,  8.5 ],\n",
       "       [ 6.  ,  8.5 ],\n",
       "       [ 7.  ,  8.5 ],\n",
       "       [ 8.  ,  8.49],\n",
       "       [ 9.  ,  8.5 ],\n",
       "       [10.  ,  8.45],\n",
       "       [11.  ,  8.45],\n",
       "       [12.  ,  8.45],\n",
       "       [13.  ,  8.45],\n",
       "       [14.  ,  8.4 ],\n",
       "       [15.  ,  8.4 ],\n",
       "       [16.  ,  8.4 ],\n",
       "       [17.  ,  8.35],\n",
       "       [18.  ,  8.34],\n",
       "       [19.  ,  8.34],\n",
       "       [20.  ,  8.33],\n",
       "       [22.  ,  8.29],\n",
       "       [23.  ,  8.29],\n",
       "       [24.  ,  8.31],\n",
       "       [25.  ,  8.3 ],\n",
       "       [26.  ,  8.31],\n",
       "       [27.  ,  8.3 ],\n",
       "       [28.  ,  8.3 ],\n",
       "       [29.  ,  8.22],\n",
       "       [30.  ,  8.17]])"
      ]
     },
     "execution_count": 20,
     "metadata": {},
     "output_type": "execute_result"
    }
   ],
   "source": [
    "pressure_matrix = np.array(pressure_data)\n",
    "pressure_matrix"
   ]
  },
  {
   "cell_type": "code",
   "execution_count": 21,
   "metadata": {},
   "outputs": [],
   "source": [
    "x = pressure_matrix[:, 0]"
   ]
  },
  {
   "cell_type": "code",
   "execution_count": 22,
   "metadata": {},
   "outputs": [],
   "source": [
    "y = pressure_matrix[:, 1]"
   ]
  },
  {
   "cell_type": "code",
   "execution_count": 23,
   "metadata": {},
   "outputs": [
    {
     "data": {
      "text/plain": [
       "array([ 1.,  2.,  3.,  4.,  5.,  6.,  7.,  8.,  9., 10., 11., 12., 13.,\n",
       "       14., 15., 16., 17., 18., 19., 20., 22., 23., 24., 25., 26., 27.,\n",
       "       28., 29., 30.])"
      ]
     },
     "execution_count": 23,
     "metadata": {},
     "output_type": "execute_result"
    }
   ],
   "source": [
    "x"
   ]
  },
  {
   "cell_type": "code",
   "execution_count": 24,
   "metadata": {},
   "outputs": [
    {
     "data": {
      "text/plain": [
       "array([8.5 , 8.5 , 8.54, 8.5 , 8.5 , 8.5 , 8.5 , 8.49, 8.5 , 8.45, 8.45,\n",
       "       8.45, 8.45, 8.4 , 8.4 , 8.4 , 8.35, 8.34, 8.34, 8.33, 8.29, 8.29,\n",
       "       8.31, 8.3 , 8.31, 8.3 , 8.3 , 8.22, 8.17])"
      ]
     },
     "execution_count": 24,
     "metadata": {},
     "output_type": "execute_result"
    }
   ],
   "source": [
    "y"
   ]
  },
  {
   "cell_type": "code",
   "execution_count": 26,
   "metadata": {},
   "outputs": [
    {
     "data": {
      "text/plain": [
       "Text(0, 0.5, 'Pressure in mb')"
      ]
     },
     "execution_count": 26,
     "metadata": {},
     "output_type": "execute_result"
    },
    {
     "data": {
      "image/png": "[encoded data removed]",
      "text/plain": [
       "<Figure size 640x480 with 1 Axes>"
      ]
     },
     "metadata": {},
     "output_type": "display_data"
    }
   ],
   "source": [
    "plt.plot(x, y, 'purple')\n",
    "plt.plot(x, y, 'ro')\n",
    "plt.title(\"Pressure vs. Sols (days on Mars)\")\n",
    "plt.xlabel(\"Sols\")\n",
    "plt.ylabel(\"Pressure in mb\")"
   ]
  },
  {
   "cell_type": "code",
   "execution_count": null,
   "metadata": {},
   "outputs": [],
   "source": []
  }
 ],
 "metadata": {
  "kernelspec": {
   "display_name": "Python 3",
   "language": "python",
   "name": "python3"
  },
  "language_info": {
   "codemirror_mode": {
    "name": "ipython",
    "version": 3
   },
   "file_extension": ".py",
   "mimetype": "text/x-python",
   "name": "python",
   "nbconvert_exporter": "python",
   "pygments_lexer": "ipython3",
   "version": "3.8.3"
  }
 },
 "nbformat": 4,
 "nbformat_minor": 4
}
